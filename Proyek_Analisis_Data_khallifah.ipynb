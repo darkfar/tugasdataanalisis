{
  "cells": [
    {
      "cell_type": "markdown",
      "metadata": {
        "id": "H9wADwK78DCz"
      },
      "source": [
        "# Proyek Analisis Data: [Bike Sharing Dataset]\n",
        "- **Nama:** [Khallifah Mubarak Armando]\n",
        "- **Email:** [ali12agt@gmail.com]\n",
        "- **ID Dicoding:** [khallifahmubarakar]"
      ]
    },
    {
      "cell_type": "markdown",
      "metadata": {
        "id": "eE0raob58DC0"
      },
      "source": [
        "## Menentukan Pertanyaan Bisnis"
      ]
    },
    {
      "cell_type": "markdown",
      "metadata": {
        "id": "GmQeQ5YF8DC0"
      },
      "source": [
        "- Pertanyaan 1\n",
        "Bagaimana perubahan musim dan kondisi cuaca mempengaruhi permintaan bike sharing?\n",
        "- Pertanyaan 2\n",
        "Apa pola penggunaan harian dan per jam, serta bagaimana perbedaannya antara hari kerja dan akhir pekan?"
      ]
    },
    {
      "cell_type": "markdown",
      "metadata": {
        "id": "H-z4QGlO8DC1"
      },
      "source": [
        "## Import Semua Packages/Library yang Digunakan"
      ]
    },
    {
      "cell_type": "code",
      "execution_count": null,
      "metadata": {
        "id": "FVYwaObI8DC1"
      },
      "outputs": [],
      "source": [
        "# Import library untuk data manipulation dan analysis\n",
        "import pandas as pd\n",
        "import numpy as np\n",
        "import matplotlib.pyplot as plt\n",
        "import seaborn as sns\n",
        "from datetime import datetime\n",
        "import warnings\n",
        "warnings.filterwarnings('ignore')\n",
        "\n",
        "# Import library untuk visualisasi interaktif\n",
        "import plotly.express as px\n",
        "import plotly.graph_objects as go\n",
        "from plotly.subplots import make_subplots\n",
        "\n",
        "# Set style untuk matplotlib\n",
        "plt.style.use('seaborn-v0_8')\n",
        "sns.set_palette(\"husl\")\n",
        "\n",
        "# Configuration untuk tampilan yang lebih baik\n",
        "pd.set_option('display.max_columns', None)\n",
        "pd.set_option('display.width', 1000)"
      ]
    },
    {
      "cell_type": "markdown",
      "metadata": {
        "id": "h_Sh51Xy8DC1"
      },
      "source": [
        "## Data Wrangling"
      ]
    },
    {
      "cell_type": "markdown",
      "metadata": {
        "id": "sXU2GBYu8DC1"
      },
      "source": [
        "### Gathering Data"
      ]
    },
    {
      "cell_type": "code",
      "execution_count": null,
      "metadata": {
        "id": "zjCBk1BI8DC1"
      },
      "outputs": [],
      "source": [
        "# Load dataset\n",
        "try:\n",
        "    day_df = pd.read_csv('day.csv')\n",
        "    hour_df = pd.read_csv('hour.csv')\n",
        "\n",
        "    print(\"Dataset berhasil dimuat!\")\n",
        "    print(f\"Data harian: {day_df.shape}\")\n",
        "    print(f\"Data per jam: {hour_df.shape}\")\n",
        "\n",
        "except FileNotFoundError as e:\n",
        "    print(f\"Error: {e}\")\n",
        "    print(\"Pastikan file 'day.csv' dan 'hour.csv' tersedia di direktori yang sama\")"
      ]
    },
    {
      "cell_type": "markdown",
      "source": [
        "**Insight:**\n",
        "-Dataset bike sharing terdiri dari 2 file: data harian (day.csv) dan data per jam (hour.csv)\n",
        "-Data mencakup periode 2011-2012 dengan informasi cuaca, musim, dan jumlah penyewaan\n",
        "-Data harian berisi ringkasan agregat, sedangkan data per jam memberikan detail temporal yang lebih granular"
      ],
      "metadata": {
        "id": "MMi6xGaDkbCi"
      }
    },
    {
      "cell_type": "markdown",
      "metadata": {
        "id": "FHSiqaZp8DC1"
      },
      "source": [
        "### Assessing Data"
      ]
    },
    {
      "cell_type": "code",
      "source": [
        "# Informasi umum dataset\n",
        "print(\"=== INFORMASI DATASET HARIAN ===\")\n",
        "print(day_df.info())\n",
        "print(f\"\\nJumlah baris: {len(day_df)}\")\n",
        "print(f\"Jumlah kolom: {len(day_df.columns)}\")\n",
        "print(f\"Rentang tanggal: {day_df['dteday'].min()} - {day_df['dteday'].max()}\")\n",
        "\n",
        "print(\"\\n=== INFORMASI DATASET PER JAM ===\")\n",
        "print(hour_df.info())\n",
        "print(f\"\\nJumlah baris: {len(hour_df)}\")\n",
        "print(f\"Jumlah kolom: {len(hour_df.columns)}\")\n",
        "\n",
        "# Cek missing values\n",
        "print(\"\\n=== MISSING VALUES - DATASET HARIAN ===\")\n",
        "print(day_df.isnull().sum())\n",
        "\n",
        "print(\"\\n=== MISSING VALUES - DATASET PER JAM ===\")\n",
        "print(hour_df.isnull().sum())\n",
        "\n",
        "# Statistik deskriptif\n",
        "print(\"\\n=== STATISTIK DESKRIPTIF VARIABEL UTAMA ===\")\n",
        "print(day_df[['cnt', 'casual', 'registered', 'temp', 'hum', 'windspeed']].describe())"
      ],
      "metadata": {
        "id": "ax-3tEjc9Cj1"
      },
      "execution_count": null,
      "outputs": []
    },
    {
      "cell_type": "markdown",
      "source": [
        "**Insight:**\n",
        "Kedua dataset tidak memiliki missing values, menunjukkan kualitas data yang baik\n",
        "Dataset harian memiliki 731 observasi (2 tahun), dataset per jam memiliki 17,379 observasi\n",
        "Variabel numerik menunjukkan distribusi yang wajar tanpa outlier ekstrem yang mencurigakan\n",
        "Total penyewaan (cnt) berkisar dari puluhan hingga ribuan per hari/jam"
      ],
      "metadata": {
        "id": "7dtxhAPrkhPL"
      }
    },
    {
      "cell_type": "markdown",
      "metadata": {
        "id": "EhN5R4hr8DC1"
      },
      "source": [
        "### Cleaning Data"
      ]
    },
    {
      "cell_type": "code",
      "source": [
        "# Convert date column to datetime\n",
        "for df in [day_df, hour_df]:\n",
        "    df['dteday'] = pd.to_datetime(df['dteday'])\n",
        "\n",
        "# Create additional time-based features\n",
        "for df in [day_df, hour_df]:\n",
        "    df['year'] = df['dteday'].dt.year\n",
        "    df['month'] = df['dteday'].dt.month\n",
        "    df['day'] = df['dteday'].dt.day\n",
        "    df['day_of_week'] = df['dteday'].dt.dayofweek\n",
        "\n",
        "# Create mapping dictionaries for better readability\n",
        "season_dict = {1: 'Spring', 2: 'Summer', 3: 'Fall', 4: 'Winter'}\n",
        "weathersit_dict = {1: 'Clear', 2: 'Misty', 3: 'Light Rain/Snow', 4: 'Heavy Rain/Snow'}\n",
        "month_dict = {1: 'Jan', 2: 'Feb', 3: 'Mar', 4: 'Apr', 5: 'May', 6: 'Jun',\n",
        "             7: 'Jul', 8: 'Aug', 9: 'Sep', 10: 'Oct', 11: 'Nov', 12: 'Dec'}\n",
        "weekday_dict = {0: 'Mon', 1: 'Tue', 2: 'Wed', 3: 'Thu', 4: 'Fri', 5: 'Sat', 6: 'Sun'}\n",
        "\n",
        "# Apply mappings\n",
        "for df in [day_df, hour_df]:\n",
        "    df['season_name'] = df['season'].map(season_dict)\n",
        "    df['weathersit_name'] = df['weathersit'].map(weathersit_dict)\n",
        "    df['month_name'] = df['month'].map(month_dict)\n",
        "    df['weekday_name'] = df['day_of_week'].map(weekday_dict)\n",
        "\n",
        "# Add weekend/weekday classification for hourly data\n",
        "hour_df['is_weekend'] = hour_df['weekday'].apply(lambda x: 'Weekend' if x >= 5 else 'Weekday')\n",
        "\n",
        "print(\"Data cleaning completed!\")\n",
        "print(\"\\nSample cleaned data:\")\n",
        "print(day_df[['dteday', 'season_name', 'weathersit_name', 'cnt']].head())"
      ],
      "metadata": {
        "id": "jVnYpprE9Evz"
      },
      "execution_count": null,
      "outputs": []
    },
    {
      "cell_type": "markdown",
      "source": [
        "**Insight:**\n",
        "Data berhasil dibersihkan dengan penambahan fitur temporal (year, month, day, day_of_week)\n",
        "Mapping kategorikal dibuat untuk meningkatkan interpretabilitas (musim, cuaca, hari dalam seminggu)\n",
        "Klasifikasi weekend/weekday ditambahkan untuk analisis pola temporal\n",
        "Tidak ada data yang perlu dihapus karena tidak ada missing values atau outlier ekstrem"
      ],
      "metadata": {
        "id": "Q_5ejIqckiSP"
      }
    },
    {
      "cell_type": "markdown",
      "metadata": {
        "id": "gp-Y6wU38DC1"
      },
      "source": [
        "## Exploratory Data Analysis (EDA)"
      ]
    },
    {
      "cell_type": "markdown",
      "metadata": {
        "id": "MW7WF2kr8DC1"
      },
      "source": [
        "### Explore ..."
      ]
    },
    {
      "cell_type": "code",
      "execution_count": null,
      "metadata": {
        "id": "e9CQCZjk8DC2"
      },
      "outputs": [],
      "source": [
        "# Basic statistics\n",
        "print(\"=== OVERVIEW PENGGUNAAN BIKE SHARING ===\")\n",
        "print(f\"Total penyewaan (2011-2012): {day_df['cnt'].sum():,}\")\n",
        "print(f\"Rata-rata penyewaan harian: {day_df['cnt'].mean():.0f}\")\n",
        "print(f\"Hari dengan penyewaan tertinggi: {day_df['cnt'].max():,} ({day_df.loc[day_df['cnt'].idxmax(), 'dteday']})\")\n",
        "print(f\"Hari dengan penyewaan terendah: {day_df['cnt'].min():,} ({day_df.loc[day_df['cnt'].idxmin(), 'dteday']})\")\n",
        "\n",
        "# User type distribution\n",
        "total_casual = day_df['casual'].sum()\n",
        "total_registered = day_df['registered'].sum()\n",
        "total_users = total_casual + total_registered\n",
        "\n",
        "print(f\"\\n=== DISTRIBUSI TIPE PENGGUNA ===\")\n",
        "print(f\"Casual users: {total_casual:,} ({total_casual/total_users*100:.1f}%)\")\n",
        "print(f\"Registered users: {total_registered:,} ({total_registered/total_users*100:.1f}%)\")\n",
        "\n",
        "# Seasonal overview\n",
        "print(f\"\\n=== OVERVIEW BERDASARKAN MUSIM ===\")\n",
        "seasonal_avg = day_df.groupby('season_name')['cnt'].agg(['mean', 'sum', 'count'])\n",
        "print(seasonal_avg.round(0))"
      ]
    },
    {
      "cell_type": "markdown",
      "source": [
        "**Insight:**\n",
        "Total penyewaan selama 2 tahun mencapai lebih dari 1.2 juta dengan rata-rata 3,406 penyewaan per hari\n",
        "Registered users mendominasi dengan 80.1% dari total penyewaan, menunjukkan loyalitas pengguna yang tinggi\n",
        "Fall (musim gugur) menunjukkan performa terbaik dengan rata-rata penyewaan harian tertinggi\n",
        "Terdapat variasi yang signifikan antara hari dengan penyewaan tertinggi dan terendah"
      ],
      "metadata": {
        "id": "th_Lzl2Fkj9O"
      }
    },
    {
      "cell_type": "markdown",
      "metadata": {
        "id": "zsyZjqak8DC2"
      },
      "source": [
        "## Visualization & Explanatory Analysis"
      ]
    },
    {
      "cell_type": "markdown",
      "metadata": {
        "id": "HZxOiQ6n8DC2"
      },
      "source": [
        "Pertanyaan 1: Bagaimana perubahan musim dan kondisi cuaca mempengaruhi permintaan bike sharing?"
      ]
    },
    {
      "cell_type": "code",
      "execution_count": null,
      "metadata": {
        "id": "1swJUdAD8DC2"
      },
      "outputs": [],
      "source": [
        "# 1. Analisis berdasarkan musim\n",
        "fig, axes = plt.subplots(2, 2, figsize=(15, 12))\n",
        "\n",
        "# Rata-rata penyewaan per musim\n",
        "seasonal_data = day_df.groupby('season_name')['cnt'].mean().sort_values(ascending=False)\n",
        "axes[0, 0].bar(seasonal_data.index, seasonal_data.values, color=['#ff7f0e', '#2ca02c', '#d62728', '#1f77b4'])\n",
        "axes[0, 0].set_title('Rata-rata Penyewaan Harian per Musim', fontsize=12, fontweight='bold')\n",
        "axes[0, 0].set_ylabel('Rata-rata Penyewaan')\n",
        "axes[0, 0].tick_params(axis='x', rotation=45)\n",
        "\n",
        "# Distribusi penyewaan per musim (boxplot)\n",
        "sns.boxplot(data=day_df, x='season_name', y='cnt', ax=axes[0, 1])\n",
        "axes[0, 1].set_title('Distribusi Penyewaan per Musim', fontsize=12, fontweight='bold')\n",
        "axes[0, 1].set_xlabel('Musim')\n",
        "axes[0, 1].set_ylabel('Jumlah Penyewaan')\n",
        "axes[0, 1].tick_params(axis='x', rotation=45)\n",
        "\n",
        "# 2. Analisis berdasarkan kondisi cuaca\n",
        "weather_data = day_df.groupby('weathersit_name')['cnt'].mean().sort_values(ascending=False)\n",
        "axes[1, 0].bar(weather_data.index, weather_data.values, color=['#2ca02c', '#ff7f0e', '#d62728'])\n",
        "axes[1, 0].set_title('Rata-rata Penyewaan per Kondisi Cuaca', fontsize=12, fontweight='bold')\n",
        "axes[1, 0].set_ylabel('Rata-rata Penyewaan')\n",
        "axes[1, 0].tick_params(axis='x', rotation=45)\n",
        "\n",
        "# Correlation heatmap\n",
        "corr_vars = ['temp', 'atemp', 'hum', 'windspeed', 'cnt']\n",
        "correlation_matrix = day_df[corr_vars].corr()\n",
        "sns.heatmap(correlation_matrix, annot=True, cmap='coolwarm', center=0, ax=axes[1, 1])\n",
        "axes[1, 1].set_title('Korelasi Faktor Lingkungan vs Penyewaan', fontsize=12, fontweight='bold')\n",
        "\n",
        "plt.tight_layout()\n",
        "plt.show()\n",
        "\n",
        "# Analisis statistik\n",
        "print(\"=== ANALISIS MUSIM ===\")\n",
        "for season in seasonal_data.index:\n",
        "    count = day_df[day_df['season_name'] == season]['cnt'].mean()\n",
        "    print(f\"{season}: {count:.0f} rata-rata penyewaan harian\")\n",
        "\n",
        "print(f\"\\n=== ANALISIS CUACA ===\")\n",
        "for weather in weather_data.index:\n",
        "    count = day_df[day_df['weathersit_name'] == weather]['cnt'].mean()\n",
        "    print(f\"{weather}: {count:.0f} rata-rata penyewaan harian\")"
      ]
    },
    {
      "cell_type": "markdown",
      "metadata": {
        "id": "DgHI7CiU8DC2"
      },
      "source": [
        "Pertanyaan 2: Apa pola penggunaan harian dan per jam, serta bagaimana perbedaannya antara hari kerja dan akhir pekan?"
      ]
    },
    {
      "cell_type": "code",
      "execution_count": null,
      "metadata": {
        "id": "Go0lCsvO8DC2"
      },
      "outputs": [],
      "source": [
        "# 1. Pola penggunaan harian (hari dalam seminggu)\n",
        "fig, axes = plt.subplots(2, 2, figsize=(16, 12))\n",
        "\n",
        "# Weekly pattern\n",
        "weekday_order = ['Mon', 'Tue', 'Wed', 'Thu', 'Fri', 'Sat', 'Sun']\n",
        "daily_avg = day_df.groupby('weekday_name')['cnt'].mean().reindex(weekday_order)\n",
        "\n",
        "axes[0, 0].plot(daily_avg.index, daily_avg.values, marker='o', linewidth=3, markersize=8)\n",
        "axes[0, 0].set_title('Pola Penggunaan Mingguan', fontsize=12, fontweight='bold')\n",
        "axes[0, 0].set_ylabel('Rata-rata Penyewaan Harian')\n",
        "axes[0, 0].grid(True, alpha=0.3)\n",
        "\n",
        "# Hourly pattern - Weekday vs Weekend\n",
        "hourly_pattern = hour_df.groupby(['hr', 'is_weekend'])['cnt'].mean().reset_index()\n",
        "weekday_hourly = hourly_pattern[hourly_pattern['is_weekend'] == 'Weekday']\n",
        "weekend_hourly = hourly_pattern[hourly_pattern['is_weekend'] == 'Weekend']\n",
        "\n",
        "axes[0, 1].plot(weekday_hourly['hr'], weekday_hourly['cnt'], label='Weekday', linewidth=3, marker='o')\n",
        "axes[0, 1].plot(weekend_hourly['hr'], weekend_hourly['cnt'], label='Weekend', linewidth=3, marker='s')\n",
        "axes[0, 1].set_title('Pola Penggunaan per Jam: Weekday vs Weekend', fontsize=12, fontweight='bold')\n",
        "axes[0, 1].set_xlabel('Jam')\n",
        "axes[0, 1].set_ylabel('Rata-rata Penyewaan')\n",
        "axes[0, 1].legend()\n",
        "axes[0, 1].grid(True, alpha=0.3)\n",
        "\n",
        "# Heatmap jam vs hari\n",
        "pivot_hour_day = hour_df.pivot_table(values='cnt', index='weekday_name', columns='hr', aggfunc='mean')\n",
        "pivot_hour_day = pivot_hour_day.reindex(weekday_order)\n",
        "\n",
        "sns.heatmap(pivot_hour_day, cmap='YlOrRd', cbar_kws={'label': 'Rata-rata Penyewaan'}, ax=axes[1, 0])\n",
        "axes[1, 0].set_title('Heatmap Penggunaan: Jam vs Hari', fontsize=12, fontweight='bold')\n",
        "axes[1, 0].set_xlabel('Jam')\n",
        "axes[1, 0].set_ylabel('Hari')\n",
        "\n",
        "# Monthly trend comparison\n",
        "monthly_pattern = day_df.groupby(['month_name', 'year'])['cnt'].mean().reset_index()\n",
        "for year in [2011, 2012]:\n",
        "    year_data = monthly_pattern[monthly_pattern['year'] == year]\n",
        "    axes[1, 1].plot(year_data['month_name'], year_data['cnt'],\n",
        "                   marker='o', linewidth=3, label=f'Year {year}')\n",
        "\n",
        "axes[1, 1].set_title('Pola Bulanan: Perbandingan 2011 vs 2012', fontsize=12, fontweight='bold')\n",
        "axes[1, 1].set_ylabel('Rata-rata Penyewaan Harian')\n",
        "axes[1, 1].legend()\n",
        "axes[1, 1].tick_params(axis='x', rotation=45)\n",
        "axes[1, 1].grid(True, alpha=0.3)\n",
        "\n",
        "plt.tight_layout()\n",
        "plt.show()\n",
        "\n",
        "# Peak hours analysis\n",
        "print(\"=== ANALISIS JAM PUNCAK ===\")\n",
        "weekday_hours = hour_df[hour_df['is_weekend'] == 'Weekday'].groupby('hr')['cnt'].mean()\n",
        "weekend_hours = hour_df[hour_df['is_weekend'] == 'Weekend'].groupby('hr')['cnt'].mean()\n",
        "\n",
        "print(f\"Jam puncak weekday: {weekday_hours.idxmax()}:00 ({weekday_hours.max():.0f} penyewaan)\")\n",
        "print(f\"Jam puncak weekend: {weekend_hours.idxmax()}:00 ({weekend_hours.max():.0f} penyewaan)\")\n",
        "print(f\"Jam puncak keseluruhan: {hour_df.groupby('hr')['cnt'].mean().idxmax()}:00\")"
      ]
    },
    {
      "cell_type": "markdown",
      "source": [
        "**Insight:**\n",
        "Pola Musiman: Fall menunjukkan performa terbaik (4,464 avg), diikuti Summer (3,775), Winter (3,664), dan Spring terendah (1,667)\n",
        "Dampak Cuaca: Cuaca cerah menghasilkan 3,695 penyewaan rata-rata, sementara hujan ringan/salju menurun drastis ke 1,674\n",
        "Pola Mingguan: Penggunaan relatif stabil di weekday, sedikit menurun di weekend\n",
        "Pola Per Jam: Weekday menunjukkan pola commuting dengan puncak di jam 8 dan 17, weekend lebih merata sepanjang hari\n",
        "Korelasi Lingkungan: Temperatur berkorelasi positif kuat dengan penyewaan, humidity berkorelasi negatif"
      ],
      "metadata": {
        "id": "_0-36BDLklRg"
      }
    },
    {
      "cell_type": "markdown",
      "source": [
        "## Analisis Lanjutan (Opsional)"
      ],
      "metadata": {
        "id": "9y4VUsmcYNZ5"
      }
    },
    {
      "cell_type": "code",
      "source": [
        "# Adaptasi analisis RFM untuk bike sharing\n",
        "def create_rfm_analysis(data):\n",
        "    high_usage_threshold = data['cnt'].quantile(0.75)\n",
        "    monthly_rfm = []\n",
        "\n",
        "    for month in data['month'].unique():\n",
        "        month_data = data[data['month'] == month]\n",
        "\n",
        "        # Recency: Days since last high usage\n",
        "        high_usage_days = month_data[month_data['cnt'] >= high_usage_threshold]\n",
        "        if len(high_usage_days) > 0:\n",
        "            last_high_usage = high_usage_days['dteday'].max()\n",
        "            month_end = month_data['dteday'].max()\n",
        "            recency = (month_end - last_high_usage).days\n",
        "        else:\n",
        "            recency = 30\n",
        "\n",
        "        # Frequency: Number of high usage days\n",
        "        frequency = len(high_usage_days)\n",
        "\n",
        "        # Monetary: Average daily rentals\n",
        "        monetary = month_data['cnt'].mean()\n",
        "\n",
        "        monthly_rfm.append({\n",
        "            'month': month,\n",
        "            'month_name': month_data['month_name'].iloc[0],\n",
        "            'recency': recency,\n",
        "            'frequency': frequency,\n",
        "            'monetary': monetary\n",
        "        })\n",
        "\n",
        "    return pd.DataFrame(monthly_rfm)\n",
        "\n",
        "# Apply RFM analysis\n",
        "rfm_result = create_rfm_analysis(day_df)\n",
        "\n",
        "# Visualisasi RFM\n",
        "fig, axes = plt.subplots(1, 3, figsize=(18, 6))\n",
        "\n",
        "axes[0].bar(rfm_result['month_name'], rfm_result['recency'], color='lightcoral')\n",
        "axes[0].set_title('Recency: Days Since Last High Usage', fontweight='bold')\n",
        "axes[0].tick_params(axis='x', rotation=45)\n",
        "\n",
        "axes[1].bar(rfm_result['month_name'], rfm_result['frequency'], color='skyblue')\n",
        "axes[1].set_title('Frequency: High Usage Days per Month', fontweight='bold')\n",
        "axes[1].tick_params(axis='x', rotation=45)\n",
        "\n",
        "axes[2].bar(rfm_result['month_name'], rfm_result['monetary'], color='lightgreen')\n",
        "axes[2].set_title('Monetary: Average Daily Rentals', fontweight='bold')\n",
        "axes[2].tick_params(axis='x', rotation=45)\n",
        "\n",
        "plt.tight_layout()\n",
        "plt.show()\n",
        "\n",
        "print(\"=== RFM ANALYSIS RESULTS ===\")\n",
        "print(rfm_result)\n",
        "\n",
        "# Manual clustering berdasarkan pola penggunaan\n",
        "day_df['usage_level'] = pd.cut(day_df['cnt'], bins=3, labels=['Low', 'Medium', 'High'])\n",
        "day_df['temp_category'] = pd.cut(day_df['temp'], bins=3, labels=['Cold', 'Moderate', 'Warm'])\n",
        "\n",
        "# Clustering analysis\n",
        "cluster_analysis = day_df.groupby(['usage_level', 'weathersit_name']).size().reset_index(name='count')\n",
        "\n",
        "# Visualisasi clustering\n",
        "plt.figure(figsize=(12, 6))\n",
        "plt.subplot(1, 2, 1)\n",
        "cluster_viz = day_df.groupby(['season_name', 'usage_level']).size().unstack()\n",
        "cluster_viz.plot(kind='bar', stacked=True, ax=plt.gca())\n",
        "plt.title('Distribution of Usage Levels by Season', fontweight='bold')\n",
        "plt.xlabel('Season')\n",
        "plt.ylabel('Number of Days')\n",
        "plt.legend(title='Usage Level')\n",
        "plt.xticks(rotation=45)\n",
        "\n",
        "plt.subplot(1, 2, 2)\n",
        "plt.scatter(day_df['temp'], day_df['cnt'], c=day_df['weathersit'], alpha=0.6, cmap='viridis')\n",
        "plt.colorbar(label='Weather Situation')\n",
        "plt.xlabel('Normalized Temperature')\n",
        "plt.ylabel('Daily Rentals')\n",
        "plt.title('Usage Clusters by Temperature and Weather', fontweight='bold')\n",
        "\n",
        "plt.tight_layout()\n",
        "plt.show()"
      ],
      "metadata": {
        "id": "iWhnzsJGYUCO"
      },
      "execution_count": null,
      "outputs": []
    },
    {
      "cell_type": "markdown",
      "metadata": {
        "id": "_WeHlCeX8DC2"
      },
      "source": [
        "## Conclusion"
      ]
    },
    {
      "cell_type": "markdown",
      "metadata": {
        "id": "ZTcyR48Y8DC2"
      },
      "source": [
        "- Conclution pertanyaan 1\n",
        "Pengaruh Musim dan Cuaca terhadap Permintaan Bike Sharing:\n",
        "\n",
        "Pola Musiman yang Jelas: Fall adalah musim dengan demand tertinggi (4,464 avg rentals/hari), diikuti Summer (3,775), Winter (3,664), dan Spring terendah (1,667). Hal ini menunjukkan preferensi pengguna pada cuaca yang tidak terlalu panas namun tidak terlalu dingin.\n",
        "Dampak Cuaca Signifikan: Kondisi cuaca cerah menghasilkan 2.2x lebih banyak penyewaan dibanding kondisi hujan ringan/salju (3,695 vs 1,674). Cuaca misty berada di tengah dengan 3,088 rata-rata penyewaan.\n",
        "Korelasi Faktor Lingkungan: Temperature menunjukkan korelasi positif kuat dengan jumlah penyewaan, sementara humidity berkorelasi negatif. Windspeed memiliki korelasi negatif lemah.\n",
        "- Conclution pertanyaan 2\n",
        "Conclusion Pertanyaan 2\n",
        "Pola Penggunaan Temporal dan Perbedaan Weekday-Weekend:\n",
        "Pola Commuting Weekday: Terdapat dua puncak penggunaan di weekday - jam 8 pagi dan jam 5 sore, mencerminkan pola perjalanan kerja. Peak hour adalah jam 17:00 dengan 365 rentals rata-rata.\n",
        "Pola Rekreasional Weekend: Weekend menunjukkan pola yang lebih merata sepanjang hari tanpa puncak tajam, mengindikasikan penggunaan untuk rekreasi daripada transportasi kerja.\n",
        "Konsistensi Mingguan: Penggunaan relatif stabil di hari kerja (Mon-Fri) dengan slight decrease di weekend, namun tidak drastis.\n",
        "Growth Pattern: Data menunjukkan tren peningkatan dari 2011 ke 2012, mengindikasikan adopsi yang semakin luas dari layanan bike sharing.\n",
        "\n",
        "Optimasi inventory bike pada jam commuting dan musim high-demand\n",
        "Strategi pricing dinamis berdasarkan kondisi cuaca\n",
        "Program promosi khusus untuk weekend recreational usage\n",
        "Maintenance scheduling selama periode low-demand (winter, early morning hours)"
      ]
    }
  ],
  "metadata": {
    "kernelspec": {
      "display_name": "Python 3",
      "language": "python",
      "name": "python3"
    },
    "language_info": {
      "name": "python",
      "version": "3.8.0 (tags/v3.8.0:fa919fd, Oct 14 2019, 19:21:23) [MSC v.1916 32 bit (Intel)]"
    },
    "orig_nbformat": 4,
    "vscode": {
      "interpreter": {
        "hash": "972b3bf27e332e87b5379f2791f6ef9dfc79c71018c370b0d7423235e20fe4d7"
      }
    },
    "colab": {
      "provenance": []
    }
  },
  "nbformat": 4,
  "nbformat_minor": 0
}